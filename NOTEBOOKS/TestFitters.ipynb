{
 "cells": [
  {
   "cell_type": "code",
   "execution_count": null,
   "metadata": {
    "collapsed": true
   },
   "outputs": [],
   "source": [
    "import numpy as np\n",
    "import pylab as pl\n",
    "from data_handling import *\n",
    "from fringe_fitters import *"
   ]
  },
  {
   "cell_type": "code",
   "execution_count": null,
   "metadata": {
    "collapsed": true
   },
   "outputs": [],
   "source": [
    "# read data from JSON file:\n",
    "inname='emerlin_data.json'\n",
    "dataset = read_file(inname)"
   ]
  },
  {
   "cell_type": "code",
   "execution_count": null,
   "metadata": {
    "collapsed": true
   },
   "outputs": [],
   "source": [
    "# get data for baseline 03:\n",
    "ae1 = 0; ae2 = 3\n",
    "freq_03, time_03, real_03, imag_03, phase_03, flags_03 = get_baseline_data_allspw(ae1, ae2, dataset)"
   ]
  },
  {
   "cell_type": "code",
   "execution_count": null,
   "metadata": {},
   "outputs": [],
   "source": [
    "# 1D FFT method:\n",
    "phase_tav = np.mean(phase_03,axis=0)\n",
    "T = FFT_1D(freq_03,phase_tav)\n",
    "print \" ------------ \"\n",
    "print \"1D FFT\"\n",
    "print \"T = \",T\n",
    "\n",
    "# 2D FFT method:\n",
    "T = FFT_2D(time_03,freq_03,real_03,imag_03)\n",
    "print \" ------------ \"\n",
    "print \"2D FFT\"\n",
    "print \"T = \",T\n",
    "\n",
    "# 1D GradPhi method:\n",
    "phase_tav = np.mean(phase_03,axis=0)\n",
    "T = GradPhi_1D(freq_03,phase_tav)\n",
    "print \" ------------ \"\n",
    "print \"1D Grad Phi\"\n",
    "print \"T = \",T\n",
    "\n",
    "# 1D LLS method:\n",
    "real_tav = np.mean(real_03,axis=0)\n",
    "imag_tav = np.mean(imag_03,axis=0)\n",
    "T = LLS_1D_nondisp(freq_03,real_tav,imag_tav)\n",
    "print \" ------------ \"\n",
    "print \"1D Non-disp LLS\"\n",
    "print \"T = \",T"
   ]
  },
  {
   "cell_type": "code",
   "execution_count": null,
   "metadata": {
    "collapsed": true
   },
   "outputs": [],
   "source": []
  }
 ],
 "metadata": {
  "kernelspec": {
   "display_name": "Python 2",
   "language": "python",
   "name": "python2"
  },
  "language_info": {
   "codemirror_mode": {
    "name": "ipython",
    "version": 2
   },
   "file_extension": ".py",
   "mimetype": "text/x-python",
   "name": "python",
   "nbconvert_exporter": "python",
   "pygments_lexer": "ipython2",
   "version": "2.7.13"
  }
 },
 "nbformat": 4,
 "nbformat_minor": 2
}
